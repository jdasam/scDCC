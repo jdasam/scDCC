{
 "cells": [
  {
   "cell_type": "markdown",
   "metadata": {},
   "source": [
    "# Tutorial of scDCC on the 10X PBMC CITE data"
   ]
  },
  {
   "cell_type": "markdown",
   "metadata": {},
   "source": [
    "Note that this tutorial is implemented on Macbook pro 2019 and all code is conducted on CPU. The results reported in the manuscript are conducted on Nvidia GPU P100."
   ]
  },
  {
   "cell_type": "code",
   "execution_count": 1,
   "metadata": {},
   "outputs": [],
   "source": [
    "from time import time\n",
    "import math, os\n",
    "\n",
    "import torch\n",
    "import torch.nn as nn\n",
    "from torch.autograd import Variable\n",
    "from torch.nn import Parameter\n",
    "import torch.nn.functional as F\n",
    "import torch.optim as optim\n",
    "from torch.utils.data import DataLoader, TensorDataset\n",
    "\n",
    "from scDCC import scDCC\n",
    "import numpy as np\n",
    "import collections\n",
    "from sklearn import metrics\n",
    "import h5py\n",
    "import scanpy.api as sc\n",
    "from preprocess import read_dataset, normalize\n",
    "from utils import cluster_acc, generate_random_pair_from_proteins, generate_random_pair_from_CD_markers"
   ]
  },
  {
   "cell_type": "markdown",
   "metadata": {},
   "source": [
    "Read in RNA count matrix (X matrix), normalized protein data (ADT_X matrix) and counts of CD proteins (adt_CD_normalized_counts matrix, which contains counts of CD4, CD8, CD27 and DR)."
   ]
  },
  {
   "cell_type": "code",
   "execution_count": 2,
   "metadata": {},
   "outputs": [
    {
     "name": "stdout",
     "output_type": "stream",
     "text": [
      "### Autoencoder: Successfully preprocessed 2000 genes and 3762 cells.\n",
      "(3762, 2000)\n",
      "(3762,)\n",
      "(3762, 49)\n",
      "median of gene sd: 0.99987\n"
     ]
    }
   ],
   "source": [
    "data_mat = h5py.File(\"CITE_PBMC_counts_top2000.h5\")\n",
    "x = np.array(data_mat['X'])\n",
    "y = np.array(data_mat['Y'])\n",
    "protein_markers = np.array(data_mat['ADT_X'])\n",
    "data_mat.close()\n",
    "\n",
    "CD_markers = np.loadtxt(\"adt_CD_normalized_counts.txt\", delimiter=',')\n",
    "\n",
    "# preprocessing scRNA-seq read counts matrix\n",
    "adata = sc.AnnData(x)\n",
    "adata.obs['Group'] = y\n",
    "\n",
    "adata = read_dataset(adata,\n",
    "                    transpose=False,\n",
    "                    test_split=False,\n",
    "                    copy=True)\n",
    "\n",
    "adata = normalize(adata,\n",
    "                    size_factors=True,\n",
    "                    normalize_input=True,\n",
    "                    logtrans_input=True)\n",
    "\n",
    "input_size = adata.n_vars\n",
    "\n",
    "print(adata.X.shape)\n",
    "print(y.shape)\n",
    "print(protein_markers.shape)\n",
    "\n",
    "x_sd = adata.X.std(0)\n",
    "x_sd_median = np.median(x_sd)\n",
    "print(\"median of gene sd: %.5f\" % x_sd_median)"
   ]
  },
  {
   "cell_type": "markdown",
   "metadata": {},
   "source": [
    "Generate constraints based on all proteins and CDs. The details are described here (the section \"Constraint Construction\" in the manuscript):\n",
    "\n",
    "1. We generated 20,000 (\"n_pairwise_1\") constraints based on all protein levels. We calculated Euclidean distances for all possible pairs of cells based on the normalized protein data and chose the 0.5th and 95th percentile of all pairwise distances as the must-link and cannot-link constraint cutoffs. Thirdly, we repeatedly sampled two cells and if the Euclidean distance between the two cells was less than the 0.5th percentile of all pairwise distances, we defined it as a must-link constraint; if the Euclidean distance between the two cells was greater than the 95th percentile of all pairwise distances, we defined it as a cannot-link constraint.\n",
    "\n",
    "2. To separate CD4 and CD8 T cells, we further added 5000 (\"n_pairwise_2\") constraints based on following rules: if one cell has high CD4 protein level ( > 70th percentile) and low CD8 protein level (< 30th percentile), and another cell has high CD8 protein level ( > 70th percentile) and low CD4 protein level (< 30th percentile), then a cannot-link is constructed. To further identify subtypes of CD4 and CD8 T cells (CD8+CD27-, CD8+CD27+, CD4+CD27+, CD4+CD27-DR+, CD4+CD27-DR-), we generate must-links for each subtype. Taking the CD8+CD27+ T cells as an example, we require that the two randomly selected cells to form a must-link constraint should have both high CD8 protein levels (> 85th percentile) and high CD27 protein levels (> 85th percentile). In contrast, the two cells to form a must-link constraint for the CD8+CD27- subtype should have high CD8 protein levels (> 85th percentile) but low CD27 protein levels (< 30th percentile). For CD4+CD27+, CD4+CD27-DR+, CD4+CD27-DR- cells, we applied similar rules to construct must-links."
   ]
  },
  {
   "cell_type": "code",
   "execution_count": 3,
   "metadata": {},
   "outputs": [
    {
     "name": "stdout",
     "output_type": "stream",
     "text": [
      "Must link paris: 1714\n",
      "Cannot link paris: 18286\n",
      "Must link paris: 428\n",
      "Cannot link paris: 4572\n"
     ]
    }
   ],
   "source": [
    "n_pairwise_1 = 20000\n",
    "ml_ind1_1, ml_ind2_1, cl_ind1_1, cl_ind2_1 = generate_random_pair_from_proteins(protein_markers, n_pairwise_1, ML=0.005, CL=0.95)\n",
    "\n",
    "print(\"Must link paris: %d\" % ml_ind1_1.shape[0])\n",
    "print(\"Cannot link paris: %d\" % cl_ind1_1.shape[0])\n",
    "\n",
    "n_pairwise_2 = 5000\n",
    "ml_ind1_2, ml_ind2_2, cl_ind1_2, cl_ind2_2 = generate_random_pair_from_CD_markers(CD_markers, n_pairwise_2, low1=0.3, high1=0.7, low2=0.3, high2=0.85)\n",
    "\n",
    "print(\"Must link paris: %d\" % ml_ind1_2.shape[0])\n",
    "print(\"Cannot link paris: %d\" % cl_ind1_2.shape[0])\n",
    "\n",
    "ml_ind1 = np.append(ml_ind1_1, ml_ind1_2)\n",
    "ml_ind2 = np.append(ml_ind2_1, ml_ind2_2)\n",
    "cl_ind1 = np.append(cl_ind1_1, cl_ind1_2)\n",
    "cl_ind2 = np.append(cl_ind2_1, cl_ind2_2)"
   ]
  },
  {
   "cell_type": "markdown",
   "metadata": {},
   "source": [
    "Construct the model and pretrain the ZINB autoencoder for 300 epochs. Here we load the pretrained weights."
   ]
  },
  {
   "cell_type": "code",
   "execution_count": 4,
   "metadata": {},
   "outputs": [
    {
     "name": "stdout",
     "output_type": "stream",
     "text": [
      "==> loading checkpoint 'CITE_PBMC_AE_weights.pth.tar'\n"
     ]
    },
    {
     "data": {
      "text/plain": [
       "IncompatibleKeys(missing_keys=[], unexpected_keys=[])"
      ]
     },
     "execution_count": 4,
     "metadata": {},
     "output_type": "execute_result"
    }
   ],
   "source": [
    "sd = 2.5\n",
    "gamma = 1.0\n",
    "\n",
    "model = scDCC(input_dim=adata.n_vars, z_dim=32, n_clusters=12, \n",
    "            encodeLayer=[256, 64], decodeLayer=[64, 256], sigma=sd, gamma=gamma,\n",
    "            ml_weight=1., cl_weight=1.).cpu()\n",
    "\n",
    "# model.pretrain_autoencoder(x=adata.X, X_raw=adata.raw.X, size_factor=adata.obs.size_factors, \n",
    "#                                batch_size=256, epochs=300, ae_weights=\"CITE_PBMC_AE_weights.pth.tar\")\n",
    "\n",
    "\n",
    "print(\"==> loading checkpoint '{}'\".format(\"CITE_PBMC_AE_weights.pth.tar\"))\n",
    "checkpoint = torch.load(\"CITE_PBMC_AE_weights.pth.tar\")\n",
    "model.load_state_dict(checkpoint['ae_state_dict'])"
   ]
  },
  {
   "cell_type": "markdown",
   "metadata": {},
   "source": [
    "Clustering with constraints."
   ]
  },
  {
   "cell_type": "code",
   "execution_count": 5,
   "metadata": {},
   "outputs": [
    {
     "name": "stdout",
     "output_type": "stream",
     "text": [
      "Clustering stage\n",
      "Initializing cluster centers with kmeans.\n"
     ]
    },
    {
     "name": "stderr",
     "output_type": "stream",
     "text": [
      "/usr/local/lib/python3.7/site-packages/sklearn/metrics/cluster/supervised.py:844: FutureWarning: The behavior of NMI will change in version 0.22. To match the behavior of 'v_measure_score', NMI will use average_method='arithmetic' by default.\n",
      "  FutureWarning)\n"
     ]
    },
    {
     "name": "stdout",
     "output_type": "stream",
     "text": [
      "Initializing k-means: ACC= 0.5720, NMI= 0.6422, ARI= 0.4503\n",
      "Clustering   1: ACC= 0.5720, NMI= 0.6422, ARI= 0.4503\n",
      "#Epoch   1: Total: 0.4404 Clustering Loss: 0.1584 ZINB Loss: 0.2820\n",
      "Pairwise Total: 23.281135215759278 ML loss 17.388620376586914 CL loss: 5.891135215759277\n",
      "Clustering   2: ACC= 0.6914, NMI= 0.6605, ARI= 0.6361\n",
      "#Epoch   2: Total: 0.4159 Clustering Loss: 0.1215 ZINB Loss: 0.2944\n",
      "Pairwise Total: 17.739119930267336 ML loss 12.668181419372559 CL loss: 5.069119930267334\n",
      "Clustering   3: ACC= 0.6933, NMI= 0.6825, ARI= 0.6690\n",
      "#Epoch   3: Total: 0.4322 Clustering Loss: 0.1623 ZINB Loss: 0.2699\n",
      "Pairwise Total: 15.697207927703857 ML loss 11.49691390991211 CL loss: 4.197207927703857\n",
      "Clustering   4: ACC= 0.7065, NMI= 0.7043, ARI= 0.6824\n",
      "#Epoch   4: Total: 0.4144 Clustering Loss: 0.1409 ZINB Loss: 0.2735\n",
      "Pairwise Total: 13.983080272674561 ML loss 10.376644134521484 CL loss: 3.6030802726745605\n",
      "Clustering   5: ACC= 0.7127, NMI= 0.7193, ARI= 0.6949\n",
      "#Epoch   5: Total: 0.4145 Clustering Loss: 0.1453 ZINB Loss: 0.2691\n",
      "Pairwise Total: 14.067228507995605 ML loss 10.701207160949707 CL loss: 3.3672285079956055\n",
      "Clustering   6: ACC= 0.7113, NMI= 0.7185, ARI= 0.6932\n",
      "#Epoch   6: Total: 0.4023 Clustering Loss: 0.1335 ZINB Loss: 0.2689\n",
      "Pairwise Total: 12.444455633163452 ML loss 9.506967544555664 CL loss: 2.934455633163452\n",
      "Clustering   7: ACC= 0.7135, NMI= 0.7208, ARI= 0.6969\n",
      "#Epoch   7: Total: 0.3988 Clustering Loss: 0.1326 ZINB Loss: 0.2662\n",
      "Pairwise Total: 12.744145193099975 ML loss 9.790013313293457 CL loss: 2.9541451930999756\n",
      "Clustering   8: ACC= 0.7129, NMI= 0.7197, ARI= 0.6978\n",
      "#Epoch   8: Total: 0.3813 Clustering Loss: 0.1163 ZINB Loss: 0.2650\n",
      "Pairwise Total: 11.717469186782838 ML loss 9.216852188110352 CL loss: 2.497469186782837\n",
      "Clustering   9: ACC= 0.7129, NMI= 0.7172, ARI= 0.6983\n",
      "#Epoch   9: Total: 0.3925 Clustering Loss: 0.1267 ZINB Loss: 0.2658\n",
      "Pairwise Total: 12.249522180557252 ML loss 9.723164558410645 CL loss: 2.529522180557251\n",
      "Clustering   10: ACC= 0.7127, NMI= 0.7175, ARI= 0.7007\n",
      "#Epoch  10: Total: 0.3721 Clustering Loss: 0.1047 ZINB Loss: 0.2673\n",
      "Pairwise Total: 11.12412254333496 ML loss 8.91612434387207 CL loss: 2.204122543334961\n",
      "Clustering   11: ACC= 0.7127, NMI= 0.7162, ARI= 0.7018\n",
      "#Epoch  11: Total: 0.3980 Clustering Loss: 0.1338 ZINB Loss: 0.2642\n",
      "Pairwise Total: 11.263118858337402 ML loss 9.12338638305664 CL loss: 2.1431188583374023\n",
      "Clustering   12: ACC= 0.7113, NMI= 0.7145, ARI= 0.7020\n",
      "#Epoch  12: Total: 0.3870 Clustering Loss: 0.1222 ZINB Loss: 0.2649\n",
      "Pairwise Total: 10.750003237724304 ML loss 8.767916679382324 CL loss: 1.9800032377243042\n",
      "Clustering   13: ACC= 0.7135, NMI= 0.7170, ARI= 0.7056\n",
      "#Epoch  13: Total: 0.3863 Clustering Loss: 0.1222 ZINB Loss: 0.2641\n",
      "Pairwise Total: 10.686748008728028 ML loss 8.727935791015625 CL loss: 1.9567480087280273\n",
      "Clustering   14: ACC= 0.7121, NMI= 0.7133, ARI= 0.7048\n",
      "#Epoch  14: Total: 0.3763 Clustering Loss: 0.1117 ZINB Loss: 0.2646\n",
      "Pairwise Total: 10.197165412902832 ML loss 8.41602897644043 CL loss: 1.777165412902832\n",
      "Clustering   15: ACC= 0.7121, NMI= 0.7134, ARI= 0.7056\n",
      "#Epoch  15: Total: 0.3712 Clustering Loss: 0.1079 ZINB Loss: 0.2633\n",
      "Pairwise Total: 10.138545470237732 ML loss 8.327149391174316 CL loss: 1.808545470237732\n",
      "Clustering   16: ACC= 0.7121, NMI= 0.7130, ARI= 0.7066\n",
      "#Epoch  16: Total: 0.3693 Clustering Loss: 0.1066 ZINB Loss: 0.2628\n",
      "Pairwise Total: 9.994585700035095 ML loss 8.318523406982422 CL loss: 1.6745857000350952\n",
      "Clustering   17: ACC= 0.7124, NMI= 0.7129, ARI= 0.7062\n",
      "#Epoch  17: Total: 0.3682 Clustering Loss: 0.1047 ZINB Loss: 0.2634\n",
      "Pairwise Total: 9.682687439918517 ML loss 8.043102264404297 CL loss: 1.642687439918518\n",
      "Clustering   18: ACC= 0.7124, NMI= 0.7113, ARI= 0.7049\n",
      "#Epoch  18: Total: 0.3553 Clustering Loss: 0.0915 ZINB Loss: 0.2638\n",
      "Pairwise Total: 9.395270810127258 ML loss 7.863586902618408 CL loss: 1.5352708101272583\n",
      "Clustering   19: ACC= 0.7124, NMI= 0.7109, ARI= 0.7047\n",
      "delta_label  0.000531632110579479 < tol  0.001\n",
      "Reach tolerance threshold. Stopping training.\n"
     ]
    }
   ],
   "source": [
    "if not os.path.exists(\"results\"):\n",
    "            os.makedirs(\"results\")\n",
    "\n",
    "y_pred, _, _, _, _ = model.fit(X=adata.X, X_raw=adata.raw.X, sf=adata.obs.size_factors, y=y, batch_size=256, num_epochs=2000, \n",
    "            ml_ind1=ml_ind1, ml_ind2=ml_ind2, cl_ind1=cl_ind1, cl_ind2=cl_ind2,\n",
    "            update_interval=1, tol=0.001, save_dir=\"results\")"
   ]
  },
  {
   "cell_type": "code",
   "execution_count": null,
   "metadata": {},
   "outputs": [],
   "source": []
  }
 ],
 "metadata": {
  "kernelspec": {
   "display_name": "Python 3.7.6 64-bit",
   "language": "python",
   "name": "python37664bit47a242faf8874fcbbeac75a09f89ff31"
  },
  "language_info": {
   "codemirror_mode": {
    "name": "ipython",
    "version": 3
   },
   "file_extension": ".py",
   "mimetype": "text/x-python",
   "name": "python",
   "nbconvert_exporter": "python",
   "pygments_lexer": "ipython3",
   "version": "3.7.9"
  }
 },
 "nbformat": 4,
 "nbformat_minor": 4
}
